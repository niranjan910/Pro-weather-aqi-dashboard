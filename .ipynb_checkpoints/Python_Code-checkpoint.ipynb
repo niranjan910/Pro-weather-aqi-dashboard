{
 "cells": [
  {
   "cell_type": "code",
   "execution_count": 1,
   "id": "09eb5135-e756-41ea-89ac-1b2ae4987a81",
   "metadata": {},
   "outputs": [
    {
     "name": "stdout",
     "output_type": "stream",
     "text": [
      "Requirement already satisfied: requests in c:\\users\\asus\\anaconda3\\lib\\site-packages (2.32.3)\n",
      "Requirement already satisfied: charset-normalizer<4,>=2 in c:\\users\\asus\\anaconda3\\lib\\site-packages (from requests) (3.3.2)\n",
      "Requirement already satisfied: idna<4,>=2.5 in c:\\users\\asus\\anaconda3\\lib\\site-packages (from requests) (3.7)\n",
      "Requirement already satisfied: urllib3<3,>=1.21.1 in c:\\users\\asus\\anaconda3\\lib\\site-packages (from requests) (2.2.3)\n",
      "Requirement already satisfied: certifi>=2017.4.17 in c:\\users\\asus\\anaconda3\\lib\\site-packages (from requests) (2025.8.3)\n"
     ]
    }
   ],
   "source": [
    "!pip install requests"
   ]
  },
  {
   "cell_type": "code",
   "execution_count": 1,
   "id": "d744b77f-db2a-4660-bd75-8afdc46e2ea3",
   "metadata": {},
   "outputs": [],
   "source": [
    "import requests "
   ]
  },
  {
   "cell_type": "code",
   "execution_count": 2,
   "id": "2872c9b0-9484-4e03-814d-c8f4a450bbde",
   "metadata": {},
   "outputs": [],
   "source": [
    "api_key = \"10b0b3741256c3d840ad164ba3cba2c8\""
   ]
  },
  {
   "cell_type": "code",
   "execution_count": 3,
   "id": "283c7f5b-1f44-4f00-b618-63995e192293",
   "metadata": {},
   "outputs": [],
   "source": [
    "city = \"Kolkata\""
   ]
  },
  {
   "cell_type": "code",
   "execution_count": 4,
   "id": "40f2982e-3155-4bd0-beec-7272e82b62b8",
   "metadata": {},
   "outputs": [],
   "source": [
    "url = f\"http://api.openweathermap.org/data/2.5/weather?q={city}&appid={api_key}&units=metric\""
   ]
  },
  {
   "cell_type": "code",
   "execution_count": 5,
   "id": "18fbbef6-b065-4cc2-94e5-fa4f92f46b0c",
   "metadata": {},
   "outputs": [],
   "source": [
    "response = requests.get(url)\n",
    "data = response.json()"
   ]
  },
  {
   "cell_type": "code",
   "execution_count": 6,
   "id": "3d387dbc-9673-4316-af01-2010184ddc1d",
   "metadata": {},
   "outputs": [
    {
     "name": "stdout",
     "output_type": "stream",
     "text": [
      "{'coord': {'lon': 88.3697, 'lat': 22.5697}, 'weather': [{'id': 804, 'main': 'Clouds', 'description': 'overcast clouds', 'icon': '04n'}], 'base': 'stations', 'main': {'temp': 28, 'feels_like': 31.95, 'temp_min': 28, 'temp_max': 28, 'pressure': 1007, 'humidity': 79, 'sea_level': 1007, 'grnd_level': 1006}, 'visibility': 10000, 'wind': {'speed': 3.17, 'deg': 208, 'gust': 5.8}, 'clouds': {'all': 100}, 'dt': 1757442459, 'sys': {'country': 'IN', 'sunrise': 1757461912, 'sunset': 1757506538}, 'timezone': 19800, 'id': 1275004, 'name': 'Kolkata', 'cod': 200}\n"
     ]
    }
   ],
   "source": [
    "print (data)"
   ]
  },
  {
   "cell_type": "code",
   "execution_count": 7,
   "id": "c6f74290-85d6-4421-a21f-802768f2de2f",
   "metadata": {},
   "outputs": [
    {
     "name": "stdout",
     "output_type": "stream",
     "text": [
      "City: Kolkata, IN\n",
      "Temperature: 28°C, Feels like: 31.95°C\n",
      "Humidity: 79%\n",
      "Weather: overcast clouds\n",
      "Wind Speed: 3.17 m/s\n"
     ]
    }
   ],
   "source": [
    "# Extract useful info\n",
    "city_name = data['name']\n",
    "country = data['sys']['country']\n",
    "temp = data['main']['temp']\n",
    "feels_like = data['main']['feels_like']\n",
    "humidity = data['main']['humidity']\n",
    "weather_desc = data['weather'][0]['description']\n",
    "wind_speed = data['wind']['speed']\n",
    "\n",
    "print(f\"City: {city_name}, {country}\")\n",
    "print(f\"Temperature: {temp}°C, Feels like: {feels_like}°C\")\n",
    "print(f\"Humidity: {humidity}%\")\n",
    "print(f\"Weather: {weather_desc}\")\n",
    "print(f\"Wind Speed: {wind_speed} m/s\")"
   ]
  },
  {
   "cell_type": "code",
   "execution_count": 11,
   "id": "59bd8341-1387-420c-9d7b-5c80277922a8",
   "metadata": {},
   "outputs": [
    {
     "name": "stdout",
     "output_type": "stream",
     "text": [
      "Collecting matplotlib\n",
      "  Downloading matplotlib-3.10.6-cp312-cp312-win_amd64.whl.metadata (11 kB)\n",
      "Collecting contourpy>=1.0.1 (from matplotlib)\n",
      "  Downloading contourpy-1.3.3-cp312-cp312-win_amd64.whl.metadata (5.5 kB)\n",
      "Collecting cycler>=0.10 (from matplotlib)\n",
      "  Downloading cycler-0.12.1-py3-none-any.whl.metadata (3.8 kB)\n",
      "Collecting fonttools>=4.22.0 (from matplotlib)\n",
      "  Downloading fonttools-4.59.2-cp312-cp312-win_amd64.whl.metadata (111 kB)\n",
      "Collecting kiwisolver>=1.3.1 (from matplotlib)\n",
      "  Downloading kiwisolver-1.4.9-cp312-cp312-win_amd64.whl.metadata (6.4 kB)\n",
      "Requirement already satisfied: numpy>=1.23 in c:\\users\\asus\\anaconda3\\lib\\site-packages (from matplotlib) (1.26.4)\n",
      "Requirement already satisfied: packaging>=20.0 in c:\\users\\asus\\anaconda3\\lib\\site-packages (from matplotlib) (24.1)\n",
      "Requirement already satisfied: pillow>=8 in c:\\users\\asus\\anaconda3\\lib\\site-packages (from matplotlib) (10.4.0)\n",
      "Collecting pyparsing>=2.3.1 (from matplotlib)\n",
      "  Downloading pyparsing-3.2.3-py3-none-any.whl.metadata (5.0 kB)\n",
      "Requirement already satisfied: python-dateutil>=2.7 in c:\\users\\asus\\anaconda3\\lib\\site-packages (from matplotlib) (2.9.0.post0)\n",
      "Requirement already satisfied: six>=1.5 in c:\\users\\asus\\anaconda3\\lib\\site-packages (from python-dateutil>=2.7->matplotlib) (1.16.0)\n",
      "Downloading matplotlib-3.10.6-cp312-cp312-win_amd64.whl (8.1 MB)\n",
      "   ---------------------------------------- 0.0/8.1 MB ? eta -:--:--\n",
      "   ------------ --------------------------- 2.6/8.1 MB 16.7 MB/s eta 0:00:01\n",
      "   ------------ --------------------------- 2.6/8.1 MB 16.7 MB/s eta 0:00:01\n",
      "   -------------------- ------------------- 4.2/8.1 MB 7.0 MB/s eta 0:00:01\n",
      "   -------------------- ------------------- 4.2/8.1 MB 7.0 MB/s eta 0:00:01\n",
      "   ---------------------------- ----------- 5.8/8.1 MB 5.6 MB/s eta 0:00:01\n",
      "   ---------------------------- ----------- 5.8/8.1 MB 5.6 MB/s eta 0:00:01\n",
      "   ---------------------------------- ----- 7.1/8.1 MB 4.8 MB/s eta 0:00:01\n",
      "   -------------------------------------- - 7.9/8.1 MB 4.9 MB/s eta 0:00:01\n",
      "   ---------------------------------------- 8.1/8.1 MB 4.5 MB/s eta 0:00:00\n",
      "Downloading contourpy-1.3.3-cp312-cp312-win_amd64.whl (226 kB)\n",
      "Downloading cycler-0.12.1-py3-none-any.whl (8.3 kB)\n",
      "Downloading fonttools-4.59.2-cp312-cp312-win_amd64.whl (2.3 MB)\n",
      "   ---------------------------------------- 0.0/2.3 MB ? eta -:--:--\n",
      "   ------------- -------------------------- 0.8/2.3 MB 4.2 MB/s eta 0:00:01\n",
      "   -------------------------------- ------- 1.8/2.3 MB 4.4 MB/s eta 0:00:01\n",
      "   ---------------------------------------- 2.3/2.3 MB 4.2 MB/s eta 0:00:00\n",
      "Downloading kiwisolver-1.4.9-cp312-cp312-win_amd64.whl (73 kB)\n",
      "Downloading pyparsing-3.2.3-py3-none-any.whl (111 kB)\n",
      "Installing collected packages: pyparsing, kiwisolver, fonttools, cycler, contourpy, matplotlib\n",
      "Successfully installed contourpy-1.3.3 cycler-0.12.1 fonttools-4.59.2 kiwisolver-1.4.9 matplotlib-3.10.6 pyparsing-3.2.3\n",
      "Note: you may need to restart the kernel to use updated packages.\n"
     ]
    }
   ],
   "source": [
    "pip install matplotlib"
   ]
  },
  {
   "cell_type": "code",
   "execution_count": 8,
   "id": "b59b4f6f-6ee4-48d9-a712-f1bd4a9dd6e6",
   "metadata": {},
   "outputs": [
    {
     "data": {
      "image/png": "[encoded data removed]",
      "text/plain": [
       "<Figure size 640x480 with 1 Axes>"
      ]
     },
     "metadata": {},
     "output_type": "display_data"
    }
   ],
   "source": [
    "import matplotlib.pyplot as plt\n",
    "\n",
    "# Data for plotting\n",
    "labels = ['Temperature (°C)', 'Feels Like (°C)', 'Humidity (%)', 'Wind Speed (m/s)']\n",
    "values = [temp, feels_like, humidity, wind_speed]\n",
    "\n",
    "plt.bar(labels, values, color=['orange', 'red', 'blue', 'green'])\n",
    "plt.title(f\"Weather Overview: {city_name}\")\n",
    "plt.show()"
   ]
  },
  {
   "cell_type": "code",
   "execution_count": 10,
   "id": "42b81ba0-6afe-4419-be19-a8a42f59a513",
   "metadata": {},
   "outputs": [],
   "source": [
    "cities = [\"Kolkata\", \"Mumbai\", \"Delhi\"]\n",
    "weather_data = []\n",
    "\n",
    "for city in cities:\n",
    "    url = f\"http://api.openweathermap.org/data/2.5/weather?q={city}&appid={api_key}&units=metric\"\n",
    "    response = requests.get(url).json()\n",
    "    weather_data.append({\n",
    "        \"City\": city,\n",
    "        \"Temp\": response[\"main\"][\"temp\"],\n",
    "        \"Humidity\":response[\"main\"][\"humidity\"],\n",
    "        \"Weather\": response[\"weather\"][0][\"description\"]\n",
    "    }\n",
    "        \n",
    "    )"
   ]
  },
  {
   "cell_type": "code",
   "execution_count": 11,
   "id": "cee5e7f3-2ece-4b24-8725-6fb9cc0cd5d3",
   "metadata": {},
   "outputs": [],
   "source": [
    "labels = [d[\"City\"]for d in weather_data]\n",
    "humidity = [d[\"Humidity\"]for d in weather_data]"
   ]
  },
  {
   "cell_type": "code",
   "execution_count": 12,
   "id": "47c3cc3a-033a-4667-85a6-208ad7ce7081",
   "metadata": {},
   "outputs": [
    {
     "data": {
      "image/png": "[encoded data removed]",
      "text/plain": [
       "<Figure size 640x480 with 1 Axes>"
      ]
     },
     "metadata": {},
     "output_type": "display_data"
    }
   ],
   "source": [
    "plt.bar(labels,humidity,color = \"skyblue\")\n",
    "plt.title(\"Humidity Comparison\")\n",
    "plt.ylabel(\"Humidity (%)\")\n",
    "plt.show()"
   ]
  },
  {
   "cell_type": "code",
   "execution_count": 15,
   "id": "4e94580d-8f8e-401e-b8f7-4f8cf45ac0a4",
   "metadata": {},
   "outputs": [
    {
     "ename": "FileNotFoundError",
     "evalue": "[Errno 2] No such file or directory: 'city.list.json'",
     "output_type": "error",
     "traceback": [
      "\u001b[31m---------------------------------------------------------------------------\u001b[39m",
      "\u001b[31mFileNotFoundError\u001b[39m                         Traceback (most recent call last)",
      "\u001b[36mCell\u001b[39m\u001b[36m \u001b[39m\u001b[32mIn[15]\u001b[39m\u001b[32m, line 4\u001b[39m\n\u001b[32m      1\u001b[39m \u001b[38;5;28;01mimport\u001b[39;00m\u001b[38;5;250m \u001b[39m\u001b[34;01mjson\u001b[39;00m\n\u001b[32m      3\u001b[39m \u001b[38;5;66;03m# Load the city list\u001b[39;00m\n\u001b[32m----> \u001b[39m\u001b[32m4\u001b[39m \u001b[38;5;28;01mwith\u001b[39;00m \u001b[38;5;28;43mopen\u001b[39;49m\u001b[43m(\u001b[49m\u001b[33;43m'\u001b[39;49m\u001b[33;43mcity.list.json\u001b[39;49m\u001b[33;43m'\u001b[39;49m\u001b[43m,\u001b[49m\u001b[43m \u001b[49m\u001b[33;43m'\u001b[39;49m\u001b[33;43mr\u001b[39;49m\u001b[33;43m'\u001b[39;49m\u001b[43m,\u001b[49m\u001b[43m \u001b[49m\u001b[43mencoding\u001b[49m\u001b[43m=\u001b[49m\u001b[33;43m'\u001b[39;49m\u001b[33;43mutf-8\u001b[39;49m\u001b[33;43m'\u001b[39;49m\u001b[43m)\u001b[49m \u001b[38;5;28;01mas\u001b[39;00m f:\n\u001b[32m      5\u001b[39m     cities = json.load(f)\n\u001b[32m      7\u001b[39m \u001b[38;5;66;03m# Filter only Indian cities\u001b[39;00m\n",
      "\u001b[36mFile \u001b[39m\u001b[32m~\\anaconda3\\Lib\\site-packages\\IPython\\core\\interactiveshell.py:326\u001b[39m, in \u001b[36m_modified_open\u001b[39m\u001b[34m(file, *args, **kwargs)\u001b[39m\n\u001b[32m    319\u001b[39m \u001b[38;5;28;01mif\u001b[39;00m file \u001b[38;5;129;01min\u001b[39;00m {\u001b[32m0\u001b[39m, \u001b[32m1\u001b[39m, \u001b[32m2\u001b[39m}:\n\u001b[32m    320\u001b[39m     \u001b[38;5;28;01mraise\u001b[39;00m \u001b[38;5;167;01mValueError\u001b[39;00m(\n\u001b[32m    321\u001b[39m         \u001b[33mf\u001b[39m\u001b[33m\"\u001b[39m\u001b[33mIPython won\u001b[39m\u001b[33m'\u001b[39m\u001b[33mt let you open fd=\u001b[39m\u001b[38;5;132;01m{\u001b[39;00mfile\u001b[38;5;132;01m}\u001b[39;00m\u001b[33m by default \u001b[39m\u001b[33m\"\u001b[39m\n\u001b[32m    322\u001b[39m         \u001b[33m\"\u001b[39m\u001b[33mas it is likely to crash IPython. If you know what you are doing, \u001b[39m\u001b[33m\"\u001b[39m\n\u001b[32m    323\u001b[39m         \u001b[33m\"\u001b[39m\u001b[33myou can use builtins\u001b[39m\u001b[33m'\u001b[39m\u001b[33m open.\u001b[39m\u001b[33m\"\u001b[39m\n\u001b[32m    324\u001b[39m     )\n\u001b[32m--> \u001b[39m\u001b[32m326\u001b[39m \u001b[38;5;28;01mreturn\u001b[39;00m \u001b[43mio_open\u001b[49m\u001b[43m(\u001b[49m\u001b[43mfile\u001b[49m\u001b[43m,\u001b[49m\u001b[43m \u001b[49m\u001b[43m*\u001b[49m\u001b[43margs\u001b[49m\u001b[43m,\u001b[49m\u001b[43m \u001b[49m\u001b[43m*\u001b[49m\u001b[43m*\u001b[49m\u001b[43mkwargs\u001b[49m\u001b[43m)\u001b[49m\n",
      "\u001b[31mFileNotFoundError\u001b[39m: [Errno 2] No such file or directory: 'city.list.json'"
     ]
    }
   ],
   "source": [
    "import json\n",
    "\n",
    "# Load the city list\n",
    "with open('city.list.json', 'r', encoding='utf-8') as f:\n",
    "    cities = json.load(f)\n",
    "\n",
    "# Filter only Indian cities\n",
    "indian_cities = [city['name'] for city in cities if city['country'] == 'IN']\n",
    "\n",
    "print(f\"Total Indian cities: {len(indian_cities)}\")\n",
    "print(indian_cities[:20])  # first 20 cities"
   ]
  },
  {
   "cell_type": "code",
   "execution_count": 16,
   "id": "b60c98da-a4f5-4278-8718-071af28eafb0",
   "metadata": {},
   "outputs": [
    {
     "name": "stdout",
     "output_type": "stream",
     "text": [
      "C:\\Users\\ASUS\n"
     ]
    }
   ],
   "source": [
    "import os \n",
    "print (os.getcwd())"
   ]
  },
  {
   "cell_type": "code",
   "execution_count": null,
   "id": "f1902314-e83f-4e12-9bd5-65fa563f823f",
   "metadata": {},
   "outputs": [],
   "source": []
  },
  {
   "cell_type": "code",
   "execution_count": null,
   "id": "600253f9-6ffb-44b5-94ad-03d17be37a0d",
   "metadata": {},
   "outputs": [],
   "source": []
  },
  {
   "cell_type": "code",
   "execution_count": null,
   "id": "85939c88-18a3-4aeb-a644-6b733a5b7a47",
   "metadata": {},
   "outputs": [],
   "source": []
  }
 ],
 "metadata": {
  "kernelspec": {
   "display_name": "Python 3 (ipykernel)",
   "language": "python",
   "name": "python3"
  },
  "language_info": {
   "codemirror_mode": {
    "name": "ipython",
    "version": 3
   },
   "file_extension": ".py",
   "mimetype": "text/x-python",
   "name": "python",
   "nbconvert_exporter": "python",
   "pygments_lexer": "ipython3",
   "version": "3.12.7"
  }
 },
 "nbformat": 4,
 "nbformat_minor": 5
}
