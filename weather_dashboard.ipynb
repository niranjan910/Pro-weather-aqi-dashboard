{
 "cells": [
  {
   "cell_type": "code",
   "execution_count": 9,
   "id": "04dba3a2-e5a4-416d-877d-8c72a791539e",
   "metadata": {},
   "outputs": [
    {
     "name": "stderr",
     "output_type": "stream",
     "text": [
      "2025-09-10 02:01:27.740 Thread 'MainThread': missing ScriptRunContext! This warning can be ignored when running in bare mode.\n",
      "2025-09-10 02:01:27.741 Thread 'MainThread': missing ScriptRunContext! This warning can be ignored when running in bare mode.\n",
      "2025-09-10 02:01:27.742 Thread 'MainThread': missing ScriptRunContext! This warning can be ignored when running in bare mode.\n",
      "2025-09-10 02:01:27.742 Thread 'MainThread': missing ScriptRunContext! This warning can be ignored when running in bare mode.\n",
      "2025-09-10 02:01:27.743 Thread 'MainThread': missing ScriptRunContext! This warning can be ignored when running in bare mode.\n",
      "2025-09-10 02:01:27.745 Thread 'MainThread': missing ScriptRunContext! This warning can be ignored when running in bare mode.\n",
      "2025-09-10 02:01:27.745 Thread 'MainThread': missing ScriptRunContext! This warning can be ignored when running in bare mode.\n",
      "2025-09-10 02:01:27.746 Thread 'MainThread': missing ScriptRunContext! This warning can be ignored when running in bare mode.\n",
      "2025-09-10 02:01:27.746 Thread 'MainThread': missing ScriptRunContext! This warning can be ignored when running in bare mode.\n",
      "2025-09-10 02:01:27.965 Thread 'MainThread': missing ScriptRunContext! This warning can be ignored when running in bare mode.\n",
      "2025-09-10 02:01:27.965 Thread 'MainThread': missing ScriptRunContext! This warning can be ignored when running in bare mode.\n",
      "2025-09-10 02:01:27.965 Thread 'MainThread': missing ScriptRunContext! This warning can be ignored when running in bare mode.\n",
      "2025-09-10 02:01:27.991 Thread 'MainThread': missing ScriptRunContext! This warning can be ignored when running in bare mode.\n",
      "2025-09-10 02:01:27.991 Thread 'MainThread': missing ScriptRunContext! This warning can be ignored when running in bare mode.\n",
      "2025-09-10 02:01:27.992 Thread 'MainThread': missing ScriptRunContext! This warning can be ignored when running in bare mode.\n",
      "2025-09-10 02:01:27.993 Thread 'MainThread': missing ScriptRunContext! This warning can be ignored when running in bare mode.\n",
      "2025-09-10 02:01:27.994 Thread 'MainThread': missing ScriptRunContext! This warning can be ignored when running in bare mode.\n",
      "2025-09-10 02:01:27.995 Thread 'MainThread': missing ScriptRunContext! This warning can be ignored when running in bare mode.\n",
      "2025-09-10 02:01:28.009 Thread 'MainThread': missing ScriptRunContext! This warning can be ignored when running in bare mode.\n",
      "2025-09-10 02:01:28.132 Thread 'MainThread': missing ScriptRunContext! This warning can be ignored when running in bare mode.\n",
      "2025-09-10 02:01:28.132 Thread 'MainThread': missing ScriptRunContext! This warning can be ignored when running in bare mode.\n",
      "2025-09-10 02:01:28.132 Thread 'MainThread': missing ScriptRunContext! This warning can be ignored when running in bare mode.\n",
      "2025-09-10 02:01:28.132 Thread 'MainThread': missing ScriptRunContext! This warning can be ignored when running in bare mode.\n",
      "2025-09-10 02:01:28.132 Thread 'MainThread': missing ScriptRunContext! This warning can be ignored when running in bare mode.\n",
      "2025-09-10 02:01:28.132 Thread 'MainThread': missing ScriptRunContext! This warning can be ignored when running in bare mode.\n",
      "2025-09-10 02:01:28.161 Thread 'MainThread': missing ScriptRunContext! This warning can be ignored when running in bare mode.\n",
      "2025-09-10 02:01:28.330 Thread 'MainThread': missing ScriptRunContext! This warning can be ignored when running in bare mode.\n",
      "2025-09-10 02:01:28.330 Thread 'MainThread': missing ScriptRunContext! This warning can be ignored when running in bare mode.\n",
      "2025-09-10 02:01:28.330 Thread 'MainThread': missing ScriptRunContext! This warning can be ignored when running in bare mode.\n",
      "2025-09-10 02:01:28.338 Thread 'MainThread': missing ScriptRunContext! This warning can be ignored when running in bare mode.\n",
      "2025-09-10 02:01:28.338 Thread 'MainThread': missing ScriptRunContext! This warning can be ignored when running in bare mode.\n",
      "2025-09-10 02:01:28.339 Thread 'MainThread': missing ScriptRunContext! This warning can be ignored when running in bare mode.\n",
      "2025-09-10 02:01:28.340 Thread 'MainThread': missing ScriptRunContext! This warning can be ignored when running in bare mode.\n",
      "2025-09-10 02:01:28.350 Thread 'MainThread': missing ScriptRunContext! This warning can be ignored when running in bare mode.\n",
      "2025-09-10 02:01:28.351 Thread 'MainThread': missing ScriptRunContext! This warning can be ignored when running in bare mode.\n",
      "2025-09-10 02:01:28.352 Thread 'MainThread': missing ScriptRunContext! This warning can be ignored when running in bare mode.\n",
      "2025-09-10 02:01:28.353 Thread 'MainThread': missing ScriptRunContext! This warning can be ignored when running in bare mode.\n",
      "2025-09-10 02:01:28.353 Thread 'MainThread': missing ScriptRunContext! This warning can be ignored when running in bare mode.\n"
     ]
    }
   ],
   "source": [
    "# weather_dashboard.py\n",
    "\n",
    "import streamlit as st\n",
    "import requests\n",
    "import matplotlib.pyplot as plt\n",
    "\n",
    "# -------------------------------\n",
    "# 1. API Key\n",
    "# -------------------------------\n",
    "api_key = \"10b0b3741256c3d840ad164ba3cba2c8\"\n",
    "\n",
    "# -------------------------------\n",
    "# 2. Function to fetch weather\n",
    "# -------------------------------\n",
    "def get_weather(city):\n",
    "    url = f\"http://api.openweathermap.org/data/2.5/weather?q={city}&appid={api_key}&units=metric\"\n",
    "    data = requests.get(url).json()\n",
    "    \n",
    "    # Handle invalid city\n",
    "    if data.get(\"cod\") != 200:\n",
    "        return {'City': city, 'Temp': None, 'Humidity': None, 'Wind': None, 'Weather': 'N/A'}\n",
    "    \n",
    "    return {\n",
    "        'City': city,\n",
    "        'Temp': data['main']['temp'],\n",
    "        'Humidity': data['main']['humidity'],\n",
    "        'Wind': data['wind']['speed'],\n",
    "        'Weather': data['weather'][0]['description']\n",
    "    }\n",
    "\n",
    "# -------------------------------\n",
    "# 3. Streamlit UI\n",
    "# -------------------------------\n",
    "st.title(\"🌤️ Real-Time Weather Dashboard\")\n",
    "\n",
    "# List of top Indian cities\n",
    "all_cities = ['Kolkata', 'Mumbai', 'Delhi', 'Bengaluru', 'Chennai', 'Hyderabad', 'Pune', 'Ahmedabad', 'Jaipur', 'Lucknow']\n",
    "\n",
    "# City selection\n",
    "selected_cities = st.multiselect(\"Select Cities to Compare:\", all_cities, default=['Kolkata', 'Mumbai'])\n",
    "\n",
    "# -------------------------------\n",
    "# 4. Fetch weather for selected cities\n",
    "# -------------------------------\n",
    "weather_data = [get_weather(city) for city in selected_cities]\n",
    "\n",
    "# Display raw data\n",
    "st.subheader(\"Weather Data\")\n",
    "st.write(weather_data)\n",
    "\n",
    "# -------------------------------\n",
    "# 5. Temperature Comparison Plot\n",
    "# -------------------------------\n",
    "st.subheader(\"🌡️ Temperature Comparison\")\n",
    "cities = [d['City'] for d in weather_data if d['Temp'] is not None]\n",
    "temps = [d['Temp'] for d in weather_data if d['Temp'] is not None]\n",
    "\n",
    "fig, ax = plt.subplots()\n",
    "ax.bar(cities, temps, color='orange')\n",
    "ax.set_ylabel(\"Temperature (°C)\")\n",
    "ax.set_title(\"Temperature Across Cities\")\n",
    "st.pyplot(fig)\n",
    "\n",
    "# -------------------------------\n",
    "# 6. Humidity Comparison Plot\n",
    "# -------------------------------\n",
    "st.subheader(\"💧 Humidity Comparison\")\n",
    "humidity = [d['Humidity'] for d in weather_data if d['Humidity'] is not None]\n",
    "\n",
    "fig2, ax2 = plt.subplots()\n",
    "ax2.bar(cities, humidity, color='skyblue')\n",
    "ax2.set_ylabel(\"Humidity (%)\")\n",
    "ax2.set_title(\"Humidity Across Cities\")\n",
    "st.pyplot(fig2)\n",
    "\n",
    "# -------------------------------\n",
    "# 7. Wind Speed Display\n",
    "# -------------------------------\n",
    "st.subheader(\"💨 Wind Speed\")\n",
    "for d in weather_data:\n",
    "    st.write(f\"{d['City']}: {d['Wind']} m/s, {d['Weather']}\")\n"
   ]
  },
  {
   "cell_type": "code",
   "execution_count": 10,
   "id": "3fabcb94-c2a7-48e8-b768-19c800397fcf",
   "metadata": {},
   "outputs": [],
   "source": [
    "def get_aqi(lat, lon):\n",
    "    url = f\"http://api.openweathermap.org/data/2.5/air_pollution?lat={lat}&lon={lon}&appid={api_key}\"\n",
    "    data = requests.get(url).json()\n",
    "    if \"list\" in data and len(data[\"list\"]) > 0:\n",
    "        return data[\"list\"][0][\"main\"][\"aqi\"]\n",
    "    return None"
   ]
  },
  {
   "cell_type": "code",
   "execution_count": 13,
   "id": "4a0bd370-cf8a-42f1-9c95-ebf271391d89",
   "metadata": {},
   "outputs": [],
   "source": [
    "def get_weather(city):\n",
    "    url = f\"http://api.openweathermap.org/data/2.5/weather?q={city}&appid={api_key}&units=metric\"\n",
    "    data = requests.get(url).json()\n",
    "    \n",
    "    if data.get(\"cod\") != 200:\n",
    "        # Always include 'AQI' even if API call fails\n",
    "        return {'City': city, 'Temp': None, 'Humidity': None, 'Wind': None, 'Weather': 'N/A', 'AQI': None}\n",
    "    \n",
    "    lat = data['coord']['lat']\n",
    "    lon = data['coord']['lon']\n",
    "    aqi = get_aqi(lat, lon)\n",
    "    \n",
    "    return {\n",
    "        'City': city,\n",
    "        'Temp': data['main']['temp'],\n",
    "        'Humidity': data['main']['humidity'],\n",
    "        'Wind': data['wind']['speed'],\n",
    "        'Weather': data['weather'][0]['description'],\n",
    "        'AQI': aqi if aqi is not None else 0  # fallback to 0 if None\n",
    "    }\n"
   ]
  },
  {
   "cell_type": "code",
   "execution_count": 14,
   "id": "6a4e9743-4988-4805-a80d-53d59a254b21",
   "metadata": {},
   "outputs": [
    {
     "name": "stderr",
     "output_type": "stream",
     "text": [
      "2025-09-10 02:08:52.537 Thread 'MainThread': missing ScriptRunContext! This warning can be ignored when running in bare mode.\n",
      "2025-09-10 02:08:52.537 Thread 'MainThread': missing ScriptRunContext! This warning can be ignored when running in bare mode.\n",
      "2025-09-10 02:08:52.537 Thread 'MainThread': missing ScriptRunContext! This warning can be ignored when running in bare mode.\n",
      "2025-09-10 02:08:52.537 Thread 'MainThread': missing ScriptRunContext! This warning can be ignored when running in bare mode.\n",
      "2025-09-10 02:08:52.537 Thread 'MainThread': missing ScriptRunContext! This warning can be ignored when running in bare mode.\n",
      "2025-09-10 02:08:52.537 Thread 'MainThread': missing ScriptRunContext! This warning can be ignored when running in bare mode.\n",
      "2025-09-10 02:08:52.537 Thread 'MainThread': missing ScriptRunContext! This warning can be ignored when running in bare mode.\n",
      "2025-09-10 02:08:52.537 Thread 'MainThread': missing ScriptRunContext! This warning can be ignored when running in bare mode.\n",
      "2025-09-10 02:08:52.537 Thread 'MainThread': missing ScriptRunContext! This warning can be ignored when running in bare mode.\n"
     ]
    }
   ],
   "source": [
    "st.subheader(\"🌫️ Air Quality Index (AQI)\")\n",
    "for d in weather_data:\n",
    "    aqi_value = d.get('AQI', 0)\n",
    "    alert = \"⚠️ Unhealthy\" if aqi_value > 200 else \"\"\n",
    "    st.write(f\"{d['City']}: AQI = {aqi_value} {alert}\")"
   ]
  },
  {
   "cell_type": "code",
   "execution_count": 15,
   "id": "e0c4db2e-f421-4323-9176-4220b3a77eff",
   "metadata": {},
   "outputs": [
    {
     "data": {
      "text/plain": [
       "'C:\\\\Users\\\\ASUS'"
      ]
     },
     "execution_count": 15,
     "metadata": {},
     "output_type": "execute_result"
    }
   ],
   "source": [
    "import os\n",
    "os.getcwd()"
   ]
  },
  {
   "cell_type": "code",
   "execution_count": 16,
   "id": "b898e520-07d2-49fe-a26a-c1794913aa57",
   "metadata": {},
   "outputs": [
    {
     "ename": "FileNotFoundError",
     "evalue": "[WinError 2] The system cannot find the file specified",
     "output_type": "error",
     "traceback": [
      "\u001b[31m---------------------------------------------------------------------------\u001b[39m",
      "\u001b[31mFileNotFoundError\u001b[39m                         Traceback (most recent call last)",
      "\u001b[36mFile \u001b[39m\u001b[32m~\\anaconda3\\Lib\\shutil.py:847\u001b[39m, in \u001b[36mmove\u001b[39m\u001b[34m(src, dst, copy_function)\u001b[39m\n\u001b[32m    846\u001b[39m \u001b[38;5;28;01mtry\u001b[39;00m:\n\u001b[32m--> \u001b[39m\u001b[32m847\u001b[39m     \u001b[43mos\u001b[49m\u001b[43m.\u001b[49m\u001b[43mrename\u001b[49m\u001b[43m(\u001b[49m\u001b[43msrc\u001b[49m\u001b[43m,\u001b[49m\u001b[43m \u001b[49m\u001b[43mreal_dst\u001b[49m\u001b[43m)\u001b[49m\n\u001b[32m    848\u001b[39m \u001b[38;5;28;01mexcept\u001b[39;00m \u001b[38;5;167;01mOSError\u001b[39;00m:\n",
      "\u001b[31mFileNotFoundError\u001b[39m: [WinError 2] The system cannot find the file specified: 'C:\\\\Users\\\\ASUS\\\\weather_dashboard.py' -> 'E:\\\\Data Science 2025\\\\9. Python Project\\\\1. Weather Forecast Project\\\\weather_dashboard.py'",
      "\nDuring handling of the above exception, another exception occurred:\n",
      "\u001b[31mFileNotFoundError\u001b[39m                         Traceback (most recent call last)",
      "\u001b[36mCell\u001b[39m\u001b[36m \u001b[39m\u001b[32mIn[16]\u001b[39m\u001b[32m, line 6\u001b[39m\n\u001b[32m      3\u001b[39m src = \u001b[33mr\u001b[39m\u001b[33m\"\u001b[39m\u001b[33mC:\u001b[39m\u001b[33m\\\u001b[39m\u001b[33mUsers\u001b[39m\u001b[33m\\\u001b[39m\u001b[33mASUS\u001b[39m\u001b[33m\\\u001b[39m\u001b[33mweather_dashboard.py\u001b[39m\u001b[33m\"\u001b[39m\n\u001b[32m      4\u001b[39m dst = \u001b[33mr\u001b[39m\u001b[33m\"\u001b[39m\u001b[33mE:\u001b[39m\u001b[33m\\\u001b[39m\u001b[33mData Science 2025\u001b[39m\u001b[33m\\\u001b[39m\u001b[33m9. Python Project\u001b[39m\u001b[33m\\\u001b[39m\u001b[33m1. Weather Forecast Project\u001b[39m\u001b[33m\\\u001b[39m\u001b[33mweather_dashboard.py\u001b[39m\u001b[33m\"\u001b[39m\n\u001b[32m----> \u001b[39m\u001b[32m6\u001b[39m \u001b[43mshutil\u001b[49m\u001b[43m.\u001b[49m\u001b[43mmove\u001b[49m\u001b[43m(\u001b[49m\u001b[43msrc\u001b[49m\u001b[43m,\u001b[49m\u001b[43m \u001b[49m\u001b[43mdst\u001b[49m\u001b[43m)\u001b[49m\n\u001b[32m      7\u001b[39m \u001b[38;5;28mprint\u001b[39m(\u001b[33m\"\u001b[39m\u001b[33mFile moved successfully!\u001b[39m\u001b[33m\"\u001b[39m)\n",
      "\u001b[36mFile \u001b[39m\u001b[32m~\\anaconda3\\Lib\\shutil.py:867\u001b[39m, in \u001b[36mmove\u001b[39m\u001b[34m(src, dst, copy_function)\u001b[39m\n\u001b[32m    865\u001b[39m         rmtree(src)\n\u001b[32m    866\u001b[39m     \u001b[38;5;28;01melse\u001b[39;00m:\n\u001b[32m--> \u001b[39m\u001b[32m867\u001b[39m         \u001b[43mcopy_function\u001b[49m\u001b[43m(\u001b[49m\u001b[43msrc\u001b[49m\u001b[43m,\u001b[49m\u001b[43m \u001b[49m\u001b[43mreal_dst\u001b[49m\u001b[43m)\u001b[49m\n\u001b[32m    868\u001b[39m         os.unlink(src)\n\u001b[32m    869\u001b[39m \u001b[38;5;28;01mreturn\u001b[39;00m real_dst\n",
      "\u001b[36mFile \u001b[39m\u001b[32m~\\anaconda3\\Lib\\shutil.py:460\u001b[39m, in \u001b[36mcopy2\u001b[39m\u001b[34m(src, dst, follow_symlinks)\u001b[39m\n\u001b[32m    458\u001b[39m     flags |= _winapi.COPY_FILE_COPY_SYMLINK\n\u001b[32m    459\u001b[39m \u001b[38;5;28;01mtry\u001b[39;00m:\n\u001b[32m--> \u001b[39m\u001b[32m460\u001b[39m     \u001b[43m_winapi\u001b[49m\u001b[43m.\u001b[49m\u001b[43mCopyFile2\u001b[49m\u001b[43m(\u001b[49m\u001b[43msrc_\u001b[49m\u001b[43m,\u001b[49m\u001b[43m \u001b[49m\u001b[43mdst_\u001b[49m\u001b[43m,\u001b[49m\u001b[43m \u001b[49m\u001b[43mflags\u001b[49m\u001b[43m)\u001b[49m\n\u001b[32m    461\u001b[39m     \u001b[38;5;28;01mreturn\u001b[39;00m dst\n\u001b[32m    462\u001b[39m \u001b[38;5;28;01mexcept\u001b[39;00m \u001b[38;5;167;01mOSError\u001b[39;00m \u001b[38;5;28;01mas\u001b[39;00m exc:\n",
      "\u001b[31mFileNotFoundError\u001b[39m: [WinError 2] The system cannot find the file specified"
     ]
    }
   ],
   "source": [
    "import shutil\n",
    "\n",
    "src = r\"C:\\Users\\ASUS\\weather_dashboard.py\"\n",
    "dst = r\"E:\\Data Science 2025\\9. Python Project\\1. Weather Forecast Project\\weather_dashboard.py\"\n",
    "\n",
    "shutil.move(src, dst)\n",
    "print(\"File moved successfully!\")\n"
   ]
  }
 ],
 "metadata": {
  "kernelspec": {
   "display_name": "Python 3 (ipykernel)",
   "language": "python",
   "name": "python3"
  },
  "language_info": {
   "codemirror_mode": {
    "name": "ipython",
    "version": 3
   },
   "file_extension": ".py",
   "mimetype": "text/x-python",
   "name": "python",
   "nbconvert_exporter": "python",
   "pygments_lexer": "ipython3",
   "version": "3.12.7"
  }
 },
 "nbformat": 4,
 "nbformat_minor": 5
}
